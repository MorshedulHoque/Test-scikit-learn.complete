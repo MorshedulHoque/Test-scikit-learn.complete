{
  "nbformat": 4,
  "nbformat_minor": 0,
  "metadata": {
    "colab": {
      "name": "model-evaluation3.ipynb",
      "provenance": [],
      "authorship_tag": "ABX9TyOYjzr6lf4B25ZOVbEeULNI",
      "include_colab_link": true
    },
    "kernelspec": {
      "name": "python3",
      "display_name": "Python 3"
    },
    "language_info": {
      "name": "python"
    }
  },
  "cells": [
    {
      "cell_type": "markdown",
      "metadata": {
        "id": "view-in-github",
        "colab_type": "text"
      },
      "source": [
        "<a href=\"https://colab.research.google.com/github/MorshedulHoque/Test-scikit-learn.complete/blob/main/model_evaluation3.ipynb\" target=\"_parent\"><img src=\"https://colab.research.google.com/assets/colab-badge.svg\" alt=\"Open In Colab\"/></a>"
      ]
    },
    {
      "cell_type": "markdown",
      "source": [
        "## নেইবারের সংখ্যা কতো হলে মডেলের অ্যাক্যুরেসি ভালো\n",
        "\n",
        "নেইবারের সংখ্যা ৩ থেকে ৫ করার পর অ্যাক্যুরেসি 0.95 থেকে 0.96 হয়েছে। এখন নেইবারের সংখ্যা বার বার পাল্টে দেখা যেতে পারে কোথায় তার অ্যাক্যুরেসি সবচেয়ে বেশি। ম্যানুয়ালি না করে ফেলে দেই প্রোগ্রামিং লুপে। সেই বের করে দেবে কোথায় অ্যাক্যুরেসি ভালো।"
      ],
      "metadata": {
        "id": "KPa39jdYpWA7"
      }
    },
    {
      "cell_type": "code",
      "execution_count": 1,
      "metadata": {
        "id": "WpuzP6AjpPM_"
      },
      "outputs": [],
      "source": [
        "# যোগ করে নেই আগের অংশগুলো \n",
        "# শুরুতে লোড করে নেই আইরিস ডেটাসেট \n",
        "from sklearn.datasets import load_iris\n",
        "iris = load_iris()\n",
        "\n",
        "# ফিচার আর টার্গেট রেসপন্স চলে যাচ্ছে X এবং y\n",
        "X = iris.data\n",
        "y = iris.target\n",
        "\n",
        "# STEP 1: split X and y into training and testing sets\n",
        "from sklearn.model_selection import train_test_split\n",
        "X_train, X_test, y_train, y_test = train_test_split(X, y, test_size=0.4, random_state=4)\n",
        "\n",
        "from sklearn.neighbors import KNeighborsClassifier\n",
        "\n",
        "from sklearn import metrics"
      ]
    },
    {
      "cell_type": "code",
      "source": [
        "# আমরা K=1 থেকে K=25 লুপ চালিয়ে সেটাকে রেকর্ড করি \n",
        "neighbors_settings = list(range(1, 26))\n",
        "scores = []\n",
        "for k in neighbors_settings:\n",
        "    knn = KNeighborsClassifier(n_neighbors=k)\n",
        "    knn.fit(X_train, y_train)\n",
        "    y_pred = knn.predict(X_test)\n",
        "    scores.append(metrics.accuracy_score(y_test, y_pred))"
      ],
      "metadata": {
        "id": "1GfVPV07pTnO"
      },
      "execution_count": 2,
      "outputs": []
    },
    {
      "cell_type": "markdown",
      "source": [
        "ম্যানুয়ালি না দেখে k_range এবং scoresকে x, y এক্সিসে প্লট করি। ভিজ্যুয়ালাইজেশন ইজ দ্য কিং!"
      ],
      "metadata": {
        "id": "kFTLviBVpj4x"
      }
    },
    {
      "cell_type": "code",
      "source": [
        "# Matplotlibকে ইমপোর্ট করে নিয়ে আসি (আমাদের সাইন্টিফিক প্লটিং লাইব্রেরি)\n",
        "import matplotlib.pyplot as plt\n",
        "\n",
        "# আমাদের জুপিটার নোটবুকে ইনলাইনে দেখানোর জন্য \n",
        "%matplotlib inline\n",
        "\n",
        "# আমরা K এবং \"testing accuracy\" এর সম্পর্ক প্লট করছি \n",
        "plt.plot(neighbors_settings, scores)\n",
        "# লেবেলের জন্য \n",
        "plt.xlabel('Value of K for KNN')\n",
        "plt.ylabel('Testing Accuracy')"
      ],
      "metadata": {
        "colab": {
          "base_uri": "https://localhost:8080/",
          "height": 300
        },
        "id": "qPHdFqpnpToy",
        "outputId": "40e3f5ea-9c0c-4372-e5a9-0ca750ae6a7e"
      },
      "execution_count": 3,
      "outputs": [
        {
          "output_type": "execute_result",
          "data": {
            "text/plain": [
              "Text(0, 0.5, 'Testing Accuracy')"
            ]
          },
          "metadata": {},
          "execution_count": 3
        },
        {
          "output_type": "display_data",
          "data": {
            "text/plain": [
              "<Figure size 432x288 with 1 Axes>"
            ],
            "image/png": "[encoded data removed]"
          },
          "metadata": {
            "needs_background": "light"
          }
        }
      ]
    },
    {
      "cell_type": "code",
      "source": [
        "# এখানে দেখছি ৭ থেকে ১৭ পর্যন্ত অ্যাক্যুরেসি ভালো, টেস্ট করছি ১০ দিয়ে \n",
        "knn = KNeighborsClassifier(n_neighbors=10)\n",
        "knn.fit(X_train, y_train)\n",
        "y_pred = knn.predict(X_test)\n",
        "print(metrics.accuracy_score(y_test, y_pred))"
      ],
      "metadata": {
        "colab": {
          "base_uri": "https://localhost:8080/"
        },
        "id": "2FcY0rz9pTs3",
        "outputId": "173cc113-1140-492e-c979-e11c899cb11a"
      },
      "execution_count": 4,
      "outputs": [
        {
          "output_type": "stream",
          "name": "stdout",
          "text": [
            "0.9833333333333333\n"
          ]
        }
      ]
    },
    {
      "cell_type": "markdown",
      "source": [
        "কী বুঝলাম এখানে?\n",
        "\n",
        "\"কে-নিয়ারেস্ট নেইবার্স\" মডেলের কমপ্লেক্সিটি নির্ভর করছে K এর ভ্যালুর ওপর। ভ্যালু কম হলে কমপ্লেক্সিটি বেশি।\n",
        "\n",
        "মডেলের ট্রেনিং অ্যাক্যুরেসি বাড়ে মডেলের কমপ্লেক্সিটি বাড়লে।\n",
        "\n",
        "টেস্টিং অ্যাক্যুরেসি পেনাল্টি করে মডেল খুব বেশি কমপ্লেক্সিটি অথবা খুব সহজ হয়ে গেলে।\n",
        "\n"
      ],
      "metadata": {
        "id": "y2RRF2pCprxv"
      }
    },
    {
      "cell_type": "markdown",
      "source": [
        "কেমন হয় ১৫০ রেকর্ড ডেটাসেটের বাইরের স্যাম্পল দিয়ে প্রেডিক্ট করলে?\n"
      ],
      "metadata": {
        "id": "i0UxoEyRpu69"
      }
    },
    {
      "cell_type": "code",
      "source": [
        "# নেইবার্স ১০ ধরলাম \n",
        "knn = KNeighborsClassifier(n_neighbors=10)\n",
        "\n",
        "# মডেলকে ট্রেইন করতে হবে X এবং y দিয়ে (X_train, y_train নয়)\n",
        "knn.fit(X, y)\n",
        "\n",
        "# প্রেডিক্ট করি নতুন স্যাম্পল দিয়ে \n",
        "knn.predict([[3, 5, 4, 2]])"
      ],
      "metadata": {
        "colab": {
          "base_uri": "https://localhost:8080/"
        },
        "id": "eKrlzkCzpTvF",
        "outputId": "24503fbe-6c7b-47ea-a66c-de440b963713"
      },
      "execution_count": 5,
      "outputs": [
        {
          "output_type": "execute_result",
          "data": {
            "text/plain": [
              "array([1])"
            ]
          },
          "metadata": {},
          "execution_count": 5
        }
      ]
    },
    {
      "cell_type": "markdown",
      "source": [
        "অথবা, যদি সরাসরি জানতে চাই আইরিস প্রজাতির নামটা?"
      ],
      "metadata": {
        "id": "ywr9nJ5_p0CC"
      }
    },
    {
      "cell_type": "code",
      "source": [
        "print(\"Predicted target name:\",\n",
        "       iris['target_names'][knn.predict([[3, 5, 4, 2]])])"
      ],
      "metadata": {
        "colab": {
          "base_uri": "https://localhost:8080/"
        },
        "id": "97_d2ZjrpTy_",
        "outputId": "c7fc72cd-889d-4019-99fb-d1dd864d3ea6"
      },
      "execution_count": 6,
      "outputs": [
        {
          "output_type": "stream",
          "name": "stdout",
          "text": [
            "Predicted target name: ['versicolor']\n"
          ]
        }
      ]
    },
    {
      "cell_type": "markdown",
      "source": [
        "মডেলের মধ্যে কমপ্লেক্সিটি আর জেনেরালাইজেশন এর সম্পর্ক\n",
        "মনে আছে \"মডেলের জেনারেলাইজেশন, ওভার-ফিটিং এবং আন্ডার-ফিটিং\" চ্যাপ্টারের আলাপগুলোর কথা? আমরা একটা সম্পর্ক বের করতে চাচ্ছিলাম মডেল কমপ্লেক্সিটির সাথে 'জেনেরালাইজেশন' নিয়ে। এখানে আমরা আইরিস ডেটাসেটের ট্রেনিং আর টেস্ট ডেটাসেটের পারফরম্যান্স দেখি \"কে-নিয়ারেস্ট নেইবার্স\" এর নেইবারের সংখ্যা নিয়ে।\n",
        "\n",
        "এখানে ট্রেনিং এবং টেস্ট সেটের অ্যাক্যুরেসি দেখতে 'অ্যাক্যুরেসি' ফেলেছি ওয়াই এক্সিসে। \"কে-নিয়ারেস্ট নেইবার্স\" এর নেইবারের সংখ্যাকে দেখানো হয়েছে এক্স এক্সিসে। মনে আছে তো কম নেইবার মানে বেশি কমপ্লেক্স মডেল? একটা নেইবার নিয়ে ট্রেনিং সেট একদম পারফেক্ট। যখন নেইবার বাড়ছে, মডেল আস্তে আস্তে সিম্পলার মানে সহজ হচ্ছে। ফলে অ্যাক্যুরেসি কমছে।\n",
        "\n",
        "টেস্ট সেটের অ্যাক্যুরেসি কিন্তু কম একটা নেইবারে। তবে বেশি নেইবার হওয়াতে সেটা আরো কমছে। একটা নেইবারে মডেল অনেক কমপ্লেক্স তবে যতো বেশি নেইবার বাড়ছে অ্যাক্যুরেসি কমছে। তবে মাঝামাঝি জায়গায় মডেল ভালো করছে।"
      ],
      "metadata": {
        "id": "PkfyQdkZp4zX"
      }
    },
    {
      "cell_type": "code",
      "source": [
        "%matplotlib inline\n",
        "\n",
        "# আগের সব গল্প, শুধু বাড়িয়েছি n_neighbors এর সংখ্যা - ২৫ পর্যন্ত \n",
        "\n",
        "from sklearn.datasets import load_iris\n",
        "iris = load_iris()\n",
        "\n",
        "X = iris.data\n",
        "y = iris.target\n",
        "\n",
        "from sklearn.model_selection import train_test_split\n",
        "\n",
        "X_train, X_test, y_train, y_test = train_test_split(\n",
        "    X, y, stratify=y, random_state=4)\n",
        "\n",
        "from sklearn.neighbors import KNeighborsClassifier\n",
        "training_accuracy = []\n",
        "test_accuracy = []\n",
        "# try n_neighbors from 1 to 25\n",
        "neighbors_settings = range(1, 26)\n",
        "\n",
        "for n_neighbors in neighbors_settings:\n",
        "    # build the model\n",
        "    knn = KNeighborsClassifier(n_neighbors=n_neighbors)\n",
        "    knn.fit(X_train, y_train)\n",
        "    # record training set accuracy\n",
        "    training_accuracy.append(knn.score(X_train, y_train))\n",
        "    # record generalization accuracy\n",
        "    test_accuracy.append(knn.score(X_test, y_test))\n",
        "\n",
        "#নিচের প্লটটা দেখাচ্ছে ট্রেনিং এবং টেস্ট সেটের অ্যাক্যুরেসি \n",
        "import matplotlib.pyplot as plt\n",
        "\n",
        "plt.plot(neighbors_settings, training_accuracy, label=\"training accuracy\")\n",
        "plt.plot(neighbors_settings, test_accuracy, label=\"test accuracy\")\n",
        "plt.ylabel(\"Accuracy\")\n",
        "plt.xlabel(\"Numbers of neighbors\")\n",
        "plt.legend()"
      ],
      "metadata": {
        "colab": {
          "base_uri": "https://localhost:8080/",
          "height": 296
        },
        "id": "tVpwi9OXpT04",
        "outputId": "bcba9d66-09a2-4ca8-c419-989868066900"
      },
      "execution_count": 7,
      "outputs": [
        {
          "output_type": "execute_result",
          "data": {
            "text/plain": [
              "<matplotlib.legend.Legend at 0x7fa708d3da10>"
            ]
          },
          "metadata": {},
          "execution_count": 7
        },
        {
          "output_type": "display_data",
          "data": {
            "text/plain": [
              "<Figure size 432x288 with 1 Axes>"
            ],
            "image/png": "[encoded data removed]"
          },
          "metadata": {
            "needs_background": "light"
          }
        }
      ]
    }
  ]
}